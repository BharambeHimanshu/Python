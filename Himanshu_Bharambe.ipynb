{
  "nbformat": 4,
  "nbformat_minor": 0,
  "metadata": {
    "colab": {
      "provenance": [],
      "authorship_tag": "ABX9TyMI+LX/3WgVY4qYvJ7oKZeV",
      "include_colab_link": true
    },
    "kernelspec": {
      "name": "python3",
      "display_name": "Python 3"
    },
    "language_info": {
      "name": "python"
    }
  },
  "cells": [
    {
      "cell_type": "markdown",
      "metadata": {
        "id": "view-in-github",
        "colab_type": "text"
      },
      "source": [
        "<a href=\"https://colab.research.google.com/github/BharambeHimanshu/Python/blob/master/Himanshu_Bharambe.ipynb\" target=\"_parent\"><img src=\"https://colab.research.google.com/assets/colab-badge.svg\" alt=\"Open In Colab\"/></a>"
      ]
    },
    {
      "cell_type": "markdown",
      "source": [],
      "metadata": {
        "id": "7K5c7zlKFovf"
      }
    },
    {
      "cell_type": "markdown",
      "source": [
        "<br>**Python Introduction** </br>\n",
        "<br>Python is a general purpose,dynamic,high level,and interpreted programming language.It supports Object Oriented programming approach to develop applications.</br>\n",
        "<br>\n",
        "It is simple and easy to learn and provides lots of high-level data structures.\n",
        "python is easy to learn yet powerful and versatile scripting language , which makes it attractive for Application Development.</br>\n",
        "<br>Python's syntax and dynamic typing with Its Interpreted nature make it an ideal language for scripting and rapid application development.</br>\n",
        "<br>Python supports multiple programming pattern,including object-oriented,imperative, and functional or procedural programming styles.</br>\n",
        "<br>**python features**</br>\n",
        "1) Easy to Lean and Use<br>\n",
        "2) Expressive Language<br> \n",
        "3) Interpreted Language<br>\n",
        "4) Cross-platform Language<br>\n",
        "5) Free and Open Source<br>\n",
        "6) Object-Oriented Language<br>\n",
        "7) Extensible<br>\n",
        "<br>**Python Applications**</br>\n",
        "1) Web Applications<br>\n",
        "2) Desktop GUI Application<br>\n",
        "3) Software"
      ],
      "metadata": {
        "id": "HnsZ-hmDlT8R"
      }
    },
    {
      "cell_type": "code",
      "source": [
        "# Print Function\n",
        "print(\"Himanshu Bharambe\")"
      ],
      "metadata": {
        "colab": {
          "base_uri": "https://localhost:8080/"
        },
        "id": "t1IhzHQwprkW",
        "outputId": "0e4efe02-83c7-4a86-8a86-5b3bf6eba57c"
      },
      "execution_count": null,
      "outputs": [
        {
          "output_type": "stream",
          "name": "stdout",
          "text": [
            "Himanshu Bharambe\n"
          ]
        }
      ]
    },
    {
      "cell_type": "code",
      "source": [
        "# Hackerrank (Introduction)-https://www.hackerrank.com/challenges/py-hello-world/submissions/code/286808890\n",
        "# Say \"Hello, World!\" With Python\n",
        "\n",
        "print(\"Hello, World!\")\n"
      ],
      "metadata": {
        "colab": {
          "base_uri": "https://localhost:8080/"
        },
        "id": "QbR0TpM9F_-F",
        "outputId": "a3cbd3ec-c1a7-4dcd-8b28-1e0bce572475"
      },
      "execution_count": null,
      "outputs": [
        {
          "output_type": "stream",
          "name": "stdout",
          "text": [
            "Hello, World!\n"
          ]
        }
      ]
    },
    {
      "cell_type": "code",
      "source": [
        "#Hackerrank - https://www.hackerrank.com/challenges/py-if-else/problem?isFullScreen=true\n",
        "# Python If-Else\n",
        "N = int(input().strip())\n",
        "if (N % 2 != 0):\n",
        "    print(\"Weird\")\n",
        "elif (N % 2 == 0) and (2 <= N) and (N <= 5):\n",
        "    print(\"Not Weird\")\n",
        "elif (N % 2 == 0) and (6 <= N) and (N <= 20):\n",
        "    print(\"Weird\")\n",
        "elif (N % 2 == 0) and (20 < N):\n",
        "    print(\"Not Weird\")"
      ],
      "metadata": {
        "colab": {
          "base_uri": "https://localhost:8080/"
        },
        "id": "8fOJfSaTGqjo",
        "outputId": "90f20525-aa41-4c69-ffbd-57e4c0780a38"
      },
      "execution_count": null,
      "outputs": [
        {
          "output_type": "stream",
          "name": "stdout",
          "text": [
            "5\n",
            "Weird\n"
          ]
        }
      ]
    },
    {
      "cell_type": "code",
      "source": [
        "# Hackerrank - https://www.hackerrank.com/challenges/python-arithmetic-operators/problem?isFullScreen=true\n",
        "# Arithmetic Operators\n",
        "if __name__ == '__main__':\n",
        "    a = int(input())\n",
        "    b = int(input())\n",
        "print(a+b)\n",
        "print(a-b)\n",
        "print(a*b)"
      ],
      "metadata": {
        "id": "rCJETDKRWUsC",
        "colab": {
          "base_uri": "https://localhost:8080/"
        },
        "outputId": "9491612a-83f0-423f-8417-dc70f0d59892"
      },
      "execution_count": null,
      "outputs": [
        {
          "output_type": "stream",
          "name": "stdout",
          "text": [
            "3\n",
            "5\n",
            "8\n",
            "-2\n",
            "15\n"
          ]
        }
      ]
    },
    {
      "cell_type": "code",
      "source": [
        "#Hackerrank - https://www.hackerrank.com/challenges/python-loops/problem?isFullScreen=true\n",
        "# Loops\n",
        "if __name__ == '__main__':\n",
        "    n = int(input())\n",
        "    for i in range(n):\n",
        "        print(i*i)"
      ],
      "metadata": {
        "colab": {
          "base_uri": "https://localhost:8080/"
        },
        "id": "w_80w9X5BWkP",
        "outputId": "0493d474-1180-4fce-cc5e-ade951727b27"
      },
      "execution_count": 1,
      "outputs": [
        {
          "output_type": "stream",
          "name": "stdout",
          "text": [
            "2\n",
            "0\n",
            "1\n"
          ]
        }
      ]
    },
    {
      "cell_type": "code",
      "source": [
        "# Hackerrank - https://www.hackerrank.com/challenges/python-division/problem?isFullScreen=true\n",
        "# Python : Division\n",
        "if __name__ == '__main__':\n",
        "    a = int(input())\n",
        "    b = int(input())\n",
        "    \n",
        "    print(a//b)\n",
        "    print(a/b)"
      ],
      "metadata": {
        "colab": {
          "base_uri": "https://localhost:8080/"
        },
        "id": "Sfzzv2M0CZjF",
        "outputId": "7b17ab43-546b-4373-9ff0-e06e15fbc506"
      },
      "execution_count": 2,
      "outputs": [
        {
          "output_type": "stream",
          "name": "stdout",
          "text": [
            "1\n",
            "2\n",
            "0\n",
            "0.5\n"
          ]
        }
      ]
    },
    {
      "cell_type": "code",
      "source": [
        "# Hackerrank - https://www.hackerrank.com/challenges/python-print/problem?isFullScreen=true\n",
        "# Print Function\n",
        "if __name__ == '__main__':\n",
        "    n = int(input())\n",
        "    for i in range (1,n+1):\n",
        "        print(i,end=\"\")"
      ],
      "metadata": {
        "colab": {
          "base_uri": "https://localhost:8080/"
        },
        "id": "a4C7WHgeDiro",
        "outputId": "904965e8-5582-4a51-e78b-92714b38eb0c"
      },
      "execution_count": 3,
      "outputs": [
        {
          "output_type": "stream",
          "name": "stdout",
          "text": [
            "5\n",
            "12345"
          ]
        }
      ]
    },
    {
      "cell_type": "code",
      "source": [
        "# Hackerrank - https://www.hackerrank.com/challenges/write-a-function/problem?isFullScreen=true\n",
        "# Write a Function whether given year is leap year or not\n",
        "def is_leap(year):\n",
        "    leap = False\n",
        "    \n",
        "    # Write your logic here\n",
        "    if year % 4 == 0:\n",
        "        if year % 100 != 0:\n",
        "            leap = True\n",
        "        elif year % 400 == 0:\n",
        "            leap = True \n",
        "    \n",
        "    return leap\n",
        "\n",
        "year = int(input())\n",
        "print(is_leap(year))"
      ],
      "metadata": {
        "colab": {
          "base_uri": "https://localhost:8080/"
        },
        "id": "BHsu1bH9F5os",
        "outputId": "e61cdcf5-9c64-4655-c32b-1419da74b9c9"
      },
      "execution_count": 4,
      "outputs": [
        {
          "output_type": "stream",
          "name": "stdout",
          "text": [
            "2004\n",
            "True\n"
          ]
        }
      ]
    },
    {
      "cell_type": "code",
      "source": [
        "# Prepinsta\n",
        "# Check if a Number is Positive and Negative in Python\n",
        "a = 0\n",
        "if 0 > a:\n",
        "    print('Negative number')\n",
        "elif 0 < a:\n",
        "    print('Positive number')\n",
        "else:\n",
        "    print('Zero')"
      ],
      "metadata": {
        "colab": {
          "base_uri": "https://localhost:8080/"
        },
        "id": "j8BYCrTNc--V",
        "outputId": "c6c1d732-7b14-4955-9a4a-77972f32bd76"
      },
      "execution_count": null,
      "outputs": [
        {
          "output_type": "stream",
          "name": "stdout",
          "text": [
            "Zero\n"
          ]
        }
      ]
    },
    {
      "cell_type": "code",
      "source": [
        "# Prepinsta\n",
        "# Check Whether a Number is Even or Odd in Python\n",
        "a = int(input(\"Enter a Number:\"))\n",
        "if a % 2 ==0:\n",
        "    print(\"Even Number\")\n",
        "else:\n",
        "    print(\"Odd Number\")\n",
        "\n"
      ],
      "metadata": {
        "id": "csmIzBoHc_FA",
        "colab": {
          "base_uri": "https://localhost:8080/"
        },
        "outputId": "9b903f57-67a8-4074-adc9-326ca237f902"
      },
      "execution_count": null,
      "outputs": [
        {
          "output_type": "stream",
          "name": "stdout",
          "text": [
            "Enter a Number:5\n",
            "Odd Number\n"
          ]
        }
      ]
    },
    {
      "cell_type": "code",
      "source": [
        "# Prepinsta\n",
        "# Find the Greatest of the Three Numbers in Python Language\n",
        "a , b , c = 10 , 20 , 30;\n",
        "max = 0 ;\n",
        "if a >= b and a >= c:\n",
        "  print(\"a\")\n",
        "elif b >=a and b >= c:\n",
        "  print(\"b\")\n",
        "else:\n",
        "  print(\"c\")    \n"
      ],
      "metadata": {
        "id": "ENG-bny0foG7",
        "colab": {
          "base_uri": "https://localhost:8080/"
        },
        "outputId": "eb0f7e98-5065-4dba-de5b-df720184c3fe"
      },
      "execution_count": null,
      "outputs": [
        {
          "output_type": "stream",
          "name": "stdout",
          "text": [
            "c\n"
          ]
        }
      ]
    },
    {
      "cell_type": "markdown",
      "source": [
        "**Operations On String and Numbers**"
      ],
      "metadata": {
        "id": "Pc2CUHiSEBy3"
      }
    },
    {
      "cell_type": "code",
      "source": [
        "# Prepinsta\n",
        "# Python program to count number of vowels in a string\n",
        "String = input('Enter a String : ')\n",
        "count = 0 \n",
        "String = String.lower()\n",
        "for i in String:\n",
        "    if i =='a' or i=='e' or i=='i' or i=='o' or i=='u':\n",
        "        count +=1\n",
        "if count == 0 :\n",
        "    print('No Vowels Found')\n",
        "else:\n",
        "    print('Vowels are :' + str(count))"
      ],
      "metadata": {
        "id": "kT6x3BxiDwhp"
      },
      "execution_count": null,
      "outputs": []
    },
    {
      "cell_type": "code",
      "source": [
        "# Prepinsta\n",
        "# Python Program for checking a character is a vowel or consonant\n",
        "a= 'i'\n",
        "\n",
        "if a  == 'a' or a == 'e' or a == 'i' or a =='o' or a == 'u' or a == 'A' or a == 'E' or a == 'I' or a == 'O' or a == 'U':\n",
        "        print(a, \"Is a Vowel\")\n",
        "else:\n",
        "        print(a, \"Is n a Consonant\")\n"
      ],
      "metadata": {
        "colab": {
          "base_uri": "https://localhost:8080/"
        },
        "id": "DjFBKobWXUoG",
        "outputId": "0c35ef05-b066-4e8a-e4e9-50f88f4ad70f"
      },
      "execution_count": null,
      "outputs": [
        {
          "output_type": "stream",
          "name": "stdout",
          "text": [
            "i Is a Vowel\n"
          ]
        }
      ]
    },
    {
      "cell_type": "code",
      "source": [
        "# Prepinsta\n",
        "# Program to check whether a String is a Palindrome or not in Python\n",
        "# palindrome =  a collection of numbers which remains the exact same way when read backwards.\n",
        "input_string=\"nayan\"\n",
        "# Reading a String in a reverse format \n",
        "rev = input_string[::-1]\n",
        "if input_string == rev :\n",
        "    print(rev+ \" is a palindrome string\")\n",
        "else:\n",
        "    print(rev + \" is not a Palindrome string\")\n",
        "\n",
        "input_string=\"Himanshu\"\n",
        "rev = input_string[::-1]\n",
        "if input_string == rev :\n",
        "    print(rev+ \" is a palindrome string\")\n",
        "else:\n",
        "    print(rev + \" is not a Palindrome string\")\n",
        "\n",
        "\n"
      ],
      "metadata": {
        "colab": {
          "base_uri": "https://localhost:8080/"
        },
        "id": "mJZ-uPw5_7VA",
        "outputId": "35d648ef-afa0-462b-f590-c99ebd4b511a"
      },
      "execution_count": null,
      "outputs": [
        {
          "output_type": "stream",
          "name": "stdout",
          "text": [
            "nayan is a palindrome string\n",
            "uhsnamiH is not a Palindrome string\n"
          ]
        }
      ]
    },
    {
      "cell_type": "code",
      "source": [
        "# Prepinsta\n",
        "# Python program to check if two strings match where one string contains wildcard characters\n",
        "def solve(str1,str2):\n",
        "    a,b=len(str1),len(str2)\n",
        "# If we reach at the end of both strings, we are done    \n",
        "    if a==0 and b==0:\n",
        "        return True\n",
        "# Make sure that the characters after '*' are present\n",
        "# in b string. This function assumes that the a\n",
        "# string will not contain two consecutive '*'        \n",
        "    if (a > 1 and str1[0] == '*') and b == 0:\n",
        "        return False\n",
        "# If the a string contains '?', or current character of both strings match        \n",
        "    if (a > 1 and str1[0] == '?') or (a != 0 and b !=0 and str1[0] == str2[0]):\n",
        "        return solve(str1[1:],str2[1:]);\n",
        "        \n",
        "# If there is *, then there are two possibilities\n",
        "# a) We consider current character of b string\n",
        "# b) We ignore current character of second string.\n",
        "    if a !=0 and str1[0] == '*':\n",
        "        return solve(str1[1:],str2) or solve(str1,str2[1:])\n",
        "    return False\n",
        "# Taking Input From User    \n",
        "str1=input('Enter string with wild characters: ')\n",
        "str2=input('Enter string without wild characters: ')\n",
        "if (solve(str1,str2)):\n",
        "    print(\"Yes it matches\")\n",
        "else:\n",
        "    print(\"No it is not matching\")\n",
        "  "
      ],
      "metadata": {
        "colab": {
          "base_uri": "https://localhost:8080/"
        },
        "id": "S1qwy-bIJUZA",
        "outputId": "3ec2407b-af24-4365-9fc7-4c5ef8fa42a0"
      },
      "execution_count": null,
      "outputs": [
        {
          "output_type": "stream",
          "name": "stdout",
          "text": [
            "Enter string with wild characters: *im*n*h*\n",
            "Enter string without wild characters: himanshu\n",
            "Yes it matches\n"
          ]
        }
      ]
    },
    {
      "cell_type": "code",
      "source": [
        "# Prepinsta\n",
        "#Python program to replace a substring in a string\n",
        "string=input(\"Enter String :\\n\")\n",
        "str1=input(\"Enter substring which has to be replaced : \")\n",
        "str2=input(\"Enter substring with which str1 has to be replaced : \")\n",
        "string=string.replace(str1,str2)\n",
        "print(\"String after replacement\")\n",
        "print(string)"
      ],
      "metadata": {
        "colab": {
          "base_uri": "https://localhost:8080/"
        },
        "id": "WeaXIAbFOntG",
        "outputId": "c8b3f10d-ba56-423b-9035-4ebfb76019a0"
      },
      "execution_count": null,
      "outputs": [
        {
          "output_type": "stream",
          "name": "stdout",
          "text": [
            "Enter String :\n",
            "Himanshu\n",
            "Enter substring which has to be replaced : shu\n",
            "Enter substring with which str1 has to be replaced : abc\n",
            "String after replacement\n",
            "Himanabc\n"
          ]
        }
      ]
    },
    {
      "cell_type": "code",
      "source": [
        "# Prepinsta3\n",
        "# Python program to find roots of quadratic equation  \n",
        "import math  \n",
        "  \n",
        "  \n",
        "# function for finding roots  \n",
        "def findRoots(a, b, c):  \n",
        "  \n",
        "    dis_form = b * b - 4 * a * c  \n",
        "    sqrt_val = math.sqrt(abs(dis_form))  \n",
        "  \n",
        "  \n",
        "    if dis_form > 0:  \n",
        "        print(\" real and different roots \")  \n",
        "        print((-b + sqrt_val) / (2 * a))  \n",
        "        print((-b - sqrt_val) / (2 * a))  \n",
        "  \n",
        "    elif dis_form == 0:  \n",
        "        print(\" real and same roots\")  \n",
        "        print(-b / (2 * a))  \n",
        "  \n",
        "  \n",
        "    else:  \n",
        "        print(\"Complex Roots\")  \n",
        "        print(- b / (2 * a), \" + i\", sqrt_val)  \n",
        "        print(- b / (2 * a), \" - i\", sqrt_val)  \n",
        "  \n",
        "  \n",
        "a = int(input('Enter a:'))  \n",
        "b = int(input('Enter b:'))  \n",
        "c = int(input('Enter c:'))  \n",
        "  \n",
        "# If a is 0, then incorrect equation  \n",
        "if a == 0:  \n",
        "    print(\"Input correct quadratic equation\")  \n",
        "  \n",
        "else:  \n",
        "    findRoots(a, b, c)  "
      ],
      "metadata": {
        "colab": {
          "base_uri": "https://localhost:8080/"
        },
        "id": "yKLLjS8KZtHY",
        "outputId": "36cacb43-c4a6-470b-dec9-bbda11c1ee87"
      },
      "execution_count": null,
      "outputs": [
        {
          "output_type": "stream",
          "name": "stdout",
          "text": [
            "Enter a:1\n",
            "Enter b:2\n",
            "Enter c:3\n",
            "Complex Roots\n",
            "-1.0  + i 2.8284271247461903\n",
            "-1.0  - i 2.8284271247461903\n"
          ]
        }
      ]
    },
    {
      "cell_type": "code",
      "source": [
        "# Prepinsta\n",
        "# Python Program to Count the Number of Digits in a Number\n",
        "num=int (input(\"Enter a number : \\n\"))\n",
        "count=0\n",
        "\n",
        "#counting digits from num\n",
        "while num>0:\n",
        "# Increment count with 1 and update num by removing last digit i.e num=num//10.\n",
        "    count+=1\n",
        "    num= num//10;\n",
        "    \n",
        "print(\"Number of digits %d\" %count)"
      ],
      "metadata": {
        "colab": {
          "base_uri": "https://localhost:8080/"
        },
        "id": "py3mI5dqlviz",
        "outputId": "e213d9b5-c1ab-485b-9111-1235b0e1cc86"
      },
      "execution_count": null,
      "outputs": [
        {
          "output_type": "stream",
          "name": "stdout",
          "text": [
            "Enter a number : \n",
            "5454544538\n",
            "Number of digits 10\n"
          ]
        }
      ]
    },
    {
      "cell_type": "code",
      "source": [
        "n= int(input())\n",
        "arr = (int, input().split())\n",
        "\n",
        "\n",
        "arrlist = []\n",
        "\n",
        "for t in arr:\n",
        "    arrlist.append(t)\n",
        "num=arrlist[1]\n",
        "\n",
        "test_list = [int(i) for i in num]\n",
        "test_sorted= (sorted(test_list, reverse=True))\n",
        "List = []\n",
        "for i in test_sorted:\n",
        "    if i != max(test_sorted):\n",
        "        List.append(i)\n",
        "\n",
        "print(max(List))"
      ],
      "metadata": {
        "colab": {
          "base_uri": "https://localhost:8080/"
        },
        "id": "USC497RZrTNr",
        "outputId": "d50b02e3-4be7-493c-9996-3a4c26976809"
      },
      "execution_count": null,
      "outputs": [
        {
          "output_type": "stream",
          "name": "stdout",
          "text": [
            "5\n",
            "4 6 7 9 3 \n",
            "7\n"
          ]
        }
      ]
    }
  ]
}