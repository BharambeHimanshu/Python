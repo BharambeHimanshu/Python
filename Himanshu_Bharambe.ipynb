{
  "nbformat": 4,
  "nbformat_minor": 0,
  "metadata": {
    "colab": {
      "name": "Himanshu Bharambe",
      "provenance": [],
      "authorship_tag": "ABX9TyMAeMHuuRmGmeXM5WZKcWhl",
      "include_colab_link": true
    },
    "kernelspec": {
      "name": "python3",
      "display_name": "Python 3"
    },
    "language_info": {
      "name": "python"
    }
  },
  "cells": [
    {
      "cell_type": "markdown",
      "metadata": {
        "id": "view-in-github",
        "colab_type": "text"
      },
      "source": [
        "<a href=\"https://colab.research.google.com/github/BharambeHimanshu/Python/blob/master/Himanshu_Bharambe.ipynb\" target=\"_parent\"><img src=\"https://colab.research.google.com/assets/colab-badge.svg\" alt=\"Open In Colab\"/></a>"
      ]
    },
    {
      "cell_type": "markdown",
      "source": [],
      "metadata": {
        "id": "7K5c7zlKFovf"
      }
    },
    {
      "cell_type": "markdown",
      "source": [
        "<br>**Python Introduction** </br>\n",
        "<br>Python is a general purpose,dynamic,high level,and interpreted programming language.It supports Object Oriented programming approach to develop applications.</br>\n",
        "<br>\n",
        "It is simple and easy to learn and provides lots of high-level data structures.\n",
        "python is easy to learn yet powerful and versatile scripting language , which makes it attractive for Application Development.</br>\n",
        "<br>Python's syntax and dynamic typing with Its Interpreted nature make it an ideal language for scripting and rapid application development.</br>\n",
        "<br>Python supports multiple programming pattern,including object-oriented,imperative, and functional or procedural programming styles.</br>\n",
        "<br>**python features**</br>\n",
        "1) Easy to Lean and Use<br>\n",
        "2) Expressive Language<br> \n",
        "3) Interpreted Language<br>\n",
        "4) Cross-platform Language<br>\n",
        "5) Free and Open Source<br>\n",
        "6) Object-Oriented Language<br>\n",
        "7) Extensible<br>\n",
        "<br>**Python Applications**</br>\n",
        "1) Web Applications<br>\n",
        "2) Desktop GUI Application<br>\n",
        "3) Software"
      ],
      "metadata": {
        "id": "HnsZ-hmDlT8R"
      }
    },
    {
      "cell_type": "code",
      "source": [
        "# Print Function\n",
        "print(\"Himanshu Bharambe\")"
      ],
      "metadata": {
        "colab": {
          "base_uri": "https://localhost:8080/"
        },
        "id": "t1IhzHQwprkW",
        "outputId": "0e4efe02-83c7-4a86-8a86-5b3bf6eba57c"
      },
      "execution_count": null,
      "outputs": [
        {
          "output_type": "stream",
          "name": "stdout",
          "text": [
            "Himanshu Bharambe\n"
          ]
        }
      ]
    },
    {
      "cell_type": "code",
      "source": [
        "# Hackerrank (Introduction)-https://www.hackerrank.com/challenges/py-hello-world/submissions/code/286808890\n",
        "# Say \"Hello, World!\" With Python\n",
        "\n",
        "print(\"Hello, World!\")\n"
      ],
      "metadata": {
        "colab": {
          "base_uri": "https://localhost:8080/"
        },
        "id": "QbR0TpM9F_-F",
        "outputId": "a3cbd3ec-c1a7-4dcd-8b28-1e0bce572475"
      },
      "execution_count": null,
      "outputs": [
        {
          "output_type": "stream",
          "name": "stdout",
          "text": [
            "Hello, World!\n"
          ]
        }
      ]
    },
    {
      "cell_type": "code",
      "source": [
        "#Hackerrank - https://www.hackerrank.com/challenges/py-if-else/problem?isFullScreen=true\n",
        "# Python If-Else\n",
        "N = int(input().strip())\n",
        "if (N % 2 != 0):\n",
        "    print(\"Weird\")\n",
        "elif (N % 2 == 0) and (2 <= N) and (N <= 5):\n",
        "    print(\"Not Weird\")\n",
        "elif (N % 2 == 0) and (6 <= N) and (N <= 20):\n",
        "    print(\"Weird\")\n",
        "elif (N % 2 == 0) and (20 < N):\n",
        "    print(\"Not Weird\")"
      ],
      "metadata": {
        "colab": {
          "base_uri": "https://localhost:8080/"
        },
        "id": "8fOJfSaTGqjo",
        "outputId": "90f20525-aa41-4c69-ffbd-57e4c0780a38"
      },
      "execution_count": null,
      "outputs": [
        {
          "output_type": "stream",
          "name": "stdout",
          "text": [
            "5\n",
            "Weird\n"
          ]
        }
      ]
    },
    {
      "cell_type": "code",
      "source": [
        "# Hackerrank - https://www.hackerrank.com/challenges/python-arithmetic-operators/problem?isFullScreen=true\n",
        "# Arithmetic Operators\n",
        "if __name__ == '__main__':\n",
        "    a = int(input())\n",
        "    b = int(input())\n",
        "print(a+b)\n",
        "print(a-b)\n",
        "print(a*b)"
      ],
      "metadata": {
        "id": "rCJETDKRWUsC",
        "colab": {
          "base_uri": "https://localhost:8080/"
        },
        "outputId": "9491612a-83f0-423f-8417-dc70f0d59892"
      },
      "execution_count": null,
      "outputs": [
        {
          "output_type": "stream",
          "name": "stdout",
          "text": [
            "3\n",
            "5\n",
            "8\n",
            "-2\n",
            "15\n"
          ]
        }
      ]
    },
    {
      "cell_type": "code",
      "source": [
        "# Prepinsta\n",
        "# Check if a Number is Positive and Negative in Python\n",
        "a = 0\n",
        "if 0 > a:\n",
        "    print('Negative number')\n",
        "elif 0 < a:\n",
        "    print('Positive number')\n",
        "else:\n",
        "    print('Zero')"
      ],
      "metadata": {
        "colab": {
          "base_uri": "https://localhost:8080/"
        },
        "id": "j8BYCrTNc--V",
        "outputId": "b7255d71-93db-476c-87fb-74b5096ad300"
      },
      "execution_count": null,
      "outputs": [
        {
          "output_type": "stream",
          "name": "stdout",
          "text": [
            "Zero\n"
          ]
        }
      ]
    },
    {
      "cell_type": "code",
      "source": [
        "# Prepinsta\n",
        "# Check Whether a Number is Even or Odd in Python\n",
        "a = int(input(\"Enter a Number:\"))\n",
        "if a % 2 ==0:\n",
        "    print(\"Even Number\")\n",
        "else:\n",
        "    print(\"Odd Number\")\n",
        "\n"
      ],
      "metadata": {
        "id": "csmIzBoHc_FA",
        "colab": {
          "base_uri": "https://localhost:8080/"
        },
        "outputId": "e8d6d13c-7b9a-4f3d-fa84-3fd7cbc93936"
      },
      "execution_count": null,
      "outputs": [
        {
          "output_type": "stream",
          "name": "stdout",
          "text": [
            "Enter a Number:5\n",
            "Odd Number\n"
          ]
        }
      ]
    },
    {
      "cell_type": "code",
      "source": [
        "# Prepinsta\n",
        "# Find the Greatest of the Three Numbers in Python Language\n",
        "a , b , c = 10 , 20 , 30;\n",
        "max = 0 ;\n",
        "if a >= b and a >= c:\n",
        "  print(\"a\")\n",
        "elif b >=a and b >= c:\n",
        "  print(\"b\")\n",
        "else:\n",
        "  print(\"c\")    \n"
      ],
      "metadata": {
        "id": "ENG-bny0foG7",
        "colab": {
          "base_uri": "https://localhost:8080/"
        },
        "outputId": "b3056b4a-9fd7-4575-9e5b-2b06a98f965c"
      },
      "execution_count": null,
      "outputs": [
        {
          "output_type": "stream",
          "name": "stdout",
          "text": [
            "c\n"
          ]
        }
      ]
    },
    {
      "cell_type": "code",
      "source": [
        "# Prepinsta\n",
        "# Operations on String\n",
        "# Python program to count number of vowels in a string\n",
        "String = input('Enter a String : ')\n",
        "count = 0 \n",
        "String = String.lower()\n",
        "for i in String:\n",
        "    if i =='a' or i=='e' or i=='i' or i=='o' or i=='u':\n",
        "        count +=1\n",
        "if count == 0 :\n",
        "    print('No Vowels Found')\n",
        "else:\n",
        "    print('Vowels are :' + str(count))"
      ],
      "metadata": {
        "id": "kT6x3BxiDwhp"
      },
      "execution_count": null,
      "outputs": []
    },
    {
      "cell_type": "code",
      "source": [
        "# Prepinsta\n",
        "# Operations on String\n",
        "# Python Program for checking a character is a vowel or consonant\n",
        "a= 'i'\n",
        "\n",
        "if a  == 'a' or a == 'e' or a == 'i' or a =='o' or a == 'u' or a == 'A' or a == 'E' or a == 'I' or a == 'O' or a == 'U':\n",
        "        print(a, \"Is a Vowel\")\n",
        "else:\n",
        "        print(a, \"Is n a Consonant\")\n"
      ],
      "metadata": {
        "colab": {
          "base_uri": "https://localhost:8080/"
        },
        "id": "DjFBKobWXUoG",
        "outputId": "0c35ef05-b066-4e8a-e4e9-50f88f4ad70f"
      },
      "execution_count": null,
      "outputs": [
        {
          "output_type": "stream",
          "name": "stdout",
          "text": [
            "i Is a Vowel\n"
          ]
        }
      ]
    }
  ]
}